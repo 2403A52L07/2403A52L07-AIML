{
  "nbformat": 4,
  "nbformat_minor": 0,
  "metadata": {
    "colab": {
      "provenance": [],
      "authorship_tag": "ABX9TyPJbp8WF9Ls0xnyP1JMT+Gi",
      "include_colab_link": true
    },
    "kernelspec": {
      "name": "python3",
      "display_name": "Python 3"
    },
    "language_info": {
      "name": "python"
    }
  },
  "cells": [
    {
      "cell_type": "markdown",
      "metadata": {
        "id": "view-in-github",
        "colab_type": "text"
      },
      "source": [
        "<a href=\"https://colab.research.google.com/github/2403A52L07/2403A52L07-AIML/blob/main/AIML_Lab_Exam.ipynb\" target=\"_parent\"><img src=\"https://colab.research.google.com/assets/colab-badge.svg\" alt=\"Open In Colab\"/></a>"
      ]
    },
    {
      "cell_type": "markdown",
      "source": [
        "#Random Forest for Bank dataset"
      ],
      "metadata": {
        "id": "TSNSkR0TfWhg"
      }
    },
    {
      "cell_type": "code",
      "source": [
        "import pandas as pd\n",
        "from sklearn.model_selection import train_test_split\n",
        "from sklearn.ensemble import RandomForestClassifier\n",
        "from sklearn.metrics import accuracy_score, classification_report, confusion_matrix\n",
        "data = pd.read_csv('/content/bank-full.csv (1).zip')\n",
        "data = pd.get_dummies(data, drop_first=True)\n",
        "print(data.columns)\n",
        "data = pd.read_csv('/content/bank-full.csv (1).zip', delimiter=';', header=0)\n",
        "data = pd.get_dummies(data, columns=['y'], drop_first=True, prefix=['y'])\n",
        "X = data.drop('y_yes', axis=1)\n",
        "y = data['y_yes']\n",
        "print(data.columns)"
      ],
      "metadata": {
        "id": "r3ulXdoifV9R",
        "colab": {
          "base_uri": "https://localhost:8080/"
        },
        "outputId": "43b7773b-a902-435f-fd19-f4e9a38bb7e2"
      },
      "execution_count": 25,
      "outputs": [
        {
          "output_type": "stream",
          "name": "stdout",
          "text": [
            "Index(['age;\"job\";\"marital\";\"education\";\"default\";\"balance\";\"housing\";\"loan\";\"contact\";\"day\";\"month\";\"duration\";\"campaign\";\"pdays\";\"previous\";\"poutcome\";\"y\"_18;\"student\";\"single\";\"primary\";\"no\";608;\"no\";\"no\";\"cellular\";12;\"aug\";267;1;-1;0;\"unknown\";\"yes\"',\n",
            "       'age;\"job\";\"marital\";\"education\";\"default\";\"balance\";\"housing\";\"loan\";\"contact\";\"day\";\"month\";\"duration\";\"campaign\";\"pdays\";\"previous\";\"poutcome\";\"y\"_18;\"student\";\"single\";\"primary\";\"no\";608;\"no\";\"no\";\"cellular\";13;\"nov\";210;1;93;1;\"success\";\"yes\"',\n",
            "       'age;\"job\";\"marital\";\"education\";\"default\";\"balance\";\"housing\";\"loan\";\"contact\";\"day\";\"month\";\"duration\";\"campaign\";\"pdays\";\"previous\";\"poutcome\";\"y\"_18;\"student\";\"single\";\"secondary\";\"no\";156;\"no\";\"no\";\"cellular\";4;\"nov\";298;2;82;4;\"other\";\"no\"',\n",
            "       'age;\"job\";\"marital\";\"education\";\"default\";\"balance\";\"housing\";\"loan\";\"contact\";\"day\";\"month\";\"duration\";\"campaign\";\"pdays\";\"previous\";\"poutcome\";\"y\"_18;\"student\";\"single\";\"secondary\";\"no\";5;\"no\";\"no\";\"cellular\";24;\"aug\";143;2;-1;0;\"unknown\";\"no\"',\n",
            "       'age;\"job\";\"marital\";\"education\";\"default\";\"balance\";\"housing\";\"loan\";\"contact\";\"day\";\"month\";\"duration\";\"campaign\";\"pdays\";\"previous\";\"poutcome\";\"y\"_18;\"student\";\"single\";\"unknown\";\"no\";108;\"no\";\"no\";\"cellular\";10;\"aug\";167;1;-1;0;\"unknown\";\"yes\"',\n",
            "       'age;\"job\";\"marital\";\"education\";\"default\";\"balance\";\"housing\";\"loan\";\"contact\";\"day\";\"month\";\"duration\";\"campaign\";\"pdays\";\"previous\";\"poutcome\";\"y\"_18;\"student\";\"single\";\"unknown\";\"no\";108;\"no\";\"no\";\"cellular\";8;\"sep\";169;1;-1;0;\"unknown\";\"yes\"',\n",
            "       'age;\"job\";\"marital\";\"education\";\"default\";\"balance\";\"housing\";\"loan\";\"contact\";\"day\";\"month\";\"duration\";\"campaign\";\"pdays\";\"previous\";\"poutcome\";\"y\"_18;\"student\";\"single\";\"unknown\";\"no\";108;\"no\";\"no\";\"cellular\";9;\"feb\";92;1;183;1;\"success\";\"yes\"',\n",
            "       'age;\"job\";\"marital\";\"education\";\"default\";\"balance\";\"housing\";\"loan\";\"contact\";\"day\";\"month\";\"duration\";\"campaign\";\"pdays\";\"previous\";\"poutcome\";\"y\"_18;\"student\";\"single\";\"unknown\";\"no\";348;\"no\";\"no\";\"cellular\";5;\"may\";443;4;-1;0;\"unknown\";\"yes\"',\n",
            "       'age;\"job\";\"marital\";\"education\";\"default\";\"balance\";\"housing\";\"loan\";\"contact\";\"day\";\"month\";\"duration\";\"campaign\";\"pdays\";\"previous\";\"poutcome\";\"y\"_18;\"student\";\"single\";\"unknown\";\"no\";35;\"no\";\"no\";\"telephone\";21;\"aug\";104;2;-1;0;\"unknown\";\"no\"',\n",
            "       'age;\"job\";\"marital\";\"education\";\"default\";\"balance\";\"housing\";\"loan\";\"contact\";\"day\";\"month\";\"duration\";\"campaign\";\"pdays\";\"previous\";\"poutcome\";\"y\"_18;\"student\";\"single\";\"unknown\";\"no\";3;\"no\";\"no\";\"cellular\";25;\"aug\";130;2;-1;0;\"unknown\";\"yes\"',\n",
            "       ...\n",
            "       'age;\"job\";\"marital\";\"education\";\"default\";\"balance\";\"housing\";\"loan\";\"contact\";\"day\";\"month\";\"duration\";\"campaign\";\"pdays\";\"previous\";\"poutcome\";\"y\"_89;\"retired\";\"married\";\"tertiary\";\"no\";553;\"no\";\"no\";\"telephone\";19;\"aug\";2027;5;-1;0;\"unknown\";\"no\"',\n",
            "       'age;\"job\";\"marital\";\"education\";\"default\";\"balance\";\"housing\";\"loan\";\"contact\";\"day\";\"month\";\"duration\";\"campaign\";\"pdays\";\"previous\";\"poutcome\";\"y\"_90;\"retired\";\"divorced\";\"primary\";\"no\";712;\"no\";\"no\";\"telephone\";3;\"mar\";557;1;-1;0;\"unknown\";\"yes\"',\n",
            "       'age;\"job\";\"marital\";\"education\";\"default\";\"balance\";\"housing\";\"loan\";\"contact\";\"day\";\"month\";\"duration\";\"campaign\";\"pdays\";\"previous\";\"poutcome\";\"y\"_90;\"retired\";\"divorced\";\"secondary\";\"no\";1;\"no\";\"no\";\"cellular\";13;\"feb\";152;3;-1;0;\"unknown\";\"yes\"',\n",
            "       'age;\"job\";\"marital\";\"education\";\"default\";\"balance\";\"housing\";\"loan\";\"contact\";\"day\";\"month\";\"duration\";\"campaign\";\"pdays\";\"previous\";\"poutcome\";\"y\"_92;\"retired\";\"married\";\"unknown\";\"no\";775;\"no\";\"no\";\"cellular\";22;\"oct\";313;3;-1;0;\"unknown\";\"yes\"',\n",
            "       'age;\"job\";\"marital\";\"education\";\"default\";\"balance\";\"housing\";\"loan\";\"contact\";\"day\";\"month\";\"duration\";\"campaign\";\"pdays\";\"previous\";\"poutcome\";\"y\"_92;\"retired\";\"married\";\"unknown\";\"no\";775;\"no\";\"no\";\"cellular\";26;\"jan\";164;4;96;3;\"success\";\"yes\"',\n",
            "       'age;\"job\";\"marital\";\"education\";\"default\";\"balance\";\"housing\";\"loan\";\"contact\";\"day\";\"month\";\"duration\";\"campaign\";\"pdays\";\"previous\";\"poutcome\";\"y\"_93;\"retired\";\"married\";\"unknown\";\"no\";775;\"no\";\"no\";\"cellular\";22;\"jul\";860;2;177;7;\"success\";\"yes\"',\n",
            "       'age;\"job\";\"marital\";\"education\";\"default\";\"balance\";\"housing\";\"loan\";\"contact\";\"day\";\"month\";\"duration\";\"campaign\";\"pdays\";\"previous\";\"poutcome\";\"y\"_93;\"retired\";\"married\";\"unknown\";\"no\";775;\"no\";\"no\";\"cellular\";4;\"aug\";476;2;13;9;\"success\";\"yes\"',\n",
            "       'age;\"job\";\"marital\";\"education\";\"default\";\"balance\";\"housing\";\"loan\";\"contact\";\"day\";\"month\";\"duration\";\"campaign\";\"pdays\";\"previous\";\"poutcome\";\"y\"_94;\"retired\";\"divorced\";\"secondary\";\"no\";1234;\"no\";\"no\";\"cellular\";3;\"mar\";212;1;-1;0;\"unknown\";\"no\"',\n",
            "       'age;\"job\";\"marital\";\"education\";\"default\";\"balance\";\"housing\";\"loan\";\"contact\";\"day\";\"month\";\"duration\";\"campaign\";\"pdays\";\"previous\";\"poutcome\";\"y\"_95;\"retired\";\"divorced\";\"primary\";\"no\";2282;\"no\";\"no\";\"telephone\";21;\"apr\";207;17;-1;0;\"unknown\";\"yes\"',\n",
            "       'age;\"job\";\"marital\";\"education\";\"default\";\"balance\";\"housing\";\"loan\";\"contact\";\"day\";\"month\";\"duration\";\"campaign\";\"pdays\";\"previous\";\"poutcome\";\"y\"_95;\"retired\";\"married\";\"secondary\";\"no\";0;\"no\";\"no\";\"telephone\";1;\"oct\";215;1;-1;0;\"unknown\";\"no\"'],\n",
            "      dtype='object', length=45210)\n",
            "Index(['age', 'job', 'marital', 'education', 'default', 'balance', 'housing',\n",
            "       'loan', 'contact', 'day', 'month', 'duration', 'campaign', 'pdays',\n",
            "       'previous', 'poutcome', 'y_yes'],\n",
            "      dtype='object')\n"
          ]
        }
      ]
    },
    {
      "source": [
        "data = pd.get_dummies(data, drop_first=True)\n",
        "# Replace 'target_column' with 'y_yes' as the target variable\n",
        "X = data.drop('y_yes', axis=1)\n",
        "y = data['y_yes']\n",
        "X_train, X_test, y_train, y_test = train_test_split(X, y, test_size=0.3, random_state=42)\n",
        "model = RandomForestClassifier(n_estimators=100, random_state=42)\n",
        "model.fit(X_train, y_train)\n",
        "y_pred = model.predict(X_test)"
      ],
      "cell_type": "code",
      "metadata": {
        "id": "QJhAFAeqmnos"
      },
      "execution_count": 29,
      "outputs": []
    },
    {
      "cell_type": "code",
      "source": [
        "accuracy = accuracy_score(y_test, y_pred)\n",
        "report = classification_report(y_test, y_pred)\n",
        "conf_matrix = confusion_matrix(y_test, y_pred)\n"
      ],
      "metadata": {
        "id": "MF2RJlOviZwn"
      },
      "execution_count": 30,
      "outputs": []
    },
    {
      "cell_type": "code",
      "source": [
        "print(f\"Accuracy: {accuracy}\")\n",
        "print(\"Classification Report:\\n\", report)\n",
        "print(\"Confusion Matrix:\\n\", conf_matrix)"
      ],
      "metadata": {
        "colab": {
          "base_uri": "https://localhost:8080/"
        },
        "id": "-IW35HcxidN2",
        "outputId": "f5707d10-bdd6-4b3d-8a95-47636423d792"
      },
      "execution_count": 31,
      "outputs": [
        {
          "output_type": "stream",
          "name": "stdout",
          "text": [
            "Accuracy: 0.9059274550280153\n",
            "Classification Report:\n",
            "               precision    recall  f1-score   support\n",
            "\n",
            "       False       0.92      0.97      0.95     11966\n",
            "        True       0.67      0.40      0.50      1598\n",
            "\n",
            "    accuracy                           0.91     13564\n",
            "   macro avg       0.80      0.69      0.72     13564\n",
            "weighted avg       0.89      0.91      0.90     13564\n",
            "\n",
            "Confusion Matrix:\n",
            " [[11653   313]\n",
            " [  963   635]]\n"
          ]
        }
      ]
    }
  ]
}